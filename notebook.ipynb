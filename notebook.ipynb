{
 "cells": [
  {
   "cell_type": "code",
   "execution_count": 17,
   "metadata": {},
   "outputs": [],
   "source": [
    "import os\n",
    "from langchain.text_splitter import RecursiveCharacterTextSplitter\n",
    "from langchain_community.document_loaders import PyPDFDirectoryLoader\n",
    "from langchain.retrievers import BM25Retriever, EnsembleRetriever\n",
    "from langchain_community.vectorstores import Chroma,FAISS\n",
    "from langchain_google_genai import GoogleGenerativeAIEmbeddings,GoogleGenerativeAI\n",
    "from langchain_core.prompts import ChatPromptTemplate\n",
    "from langchain.chains.combine_documents import create_stuff_documents_chain\n",
    "from langchain.chains.retrieval import create_retrieval_chain\n",
    "from dotenv import load_dotenv\n",
    "import csv\n",
    "\n",
    "load_dotenv()\n",
    "os.environ['GOOGLE_API_KEY'] = os.getenv('GOOGLE_API_KEY')\n",
    "\n"
   ]
  },
  {
   "cell_type": "code",
   "execution_count": 2,
   "metadata": {},
   "outputs": [],
   "source": [
    "llm=GoogleGenerativeAI(model=\"gemini-1.5-pro-latest\")"
   ]
  },
  {
   "cell_type": "code",
   "execution_count": 3,
   "metadata": {},
   "outputs": [],
   "source": [
    "embeddings=GoogleGenerativeAIEmbeddings(model=\"models/embedding-001\")\n"
   ]
  },
  {
   "cell_type": "code",
   "execution_count": 4,
   "metadata": {},
   "outputs": [],
   "source": [
    "loader=PyPDFDirectoryLoader(\"./pdfs\")\n",
    "docs=loader.load()"
   ]
  },
  {
   "cell_type": "code",
   "execution_count": 5,
   "metadata": {},
   "outputs": [],
   "source": [
    "text_splitter=RecursiveCharacterTextSplitter(chunk_size=1000,chunk_overlap=20)\n",
    "documents=text_splitter.split_documents(docs)\n"
   ]
  },
  {
   "cell_type": "code",
   "execution_count": 6,
   "metadata": {},
   "outputs": [
    {
     "name": "stdout",
     "output_type": "stream",
     "text": [
      "187\n"
     ]
    }
   ],
   "source": [
    "print(len(documents))"
   ]
  },
  {
   "cell_type": "code",
   "execution_count": 7,
   "metadata": {},
   "outputs": [],
   "source": [
    "vectorstore=FAISS.from_documents(documents,embeddings)\n"
   ]
  },
  {
   "cell_type": "code",
   "execution_count": 8,
   "metadata": {},
   "outputs": [],
   "source": [
    "retriever_vectordb=vectorstore.as_retriever(search_kwargs={\"k\":4})"
   ]
  },
  {
   "cell_type": "code",
   "execution_count": 9,
   "metadata": {},
   "outputs": [],
   "source": [
    "keyword_retriever = BM25Retriever.from_documents(documents)"
   ]
  },
  {
   "cell_type": "code",
   "execution_count": 10,
   "metadata": {},
   "outputs": [],
   "source": [
    "ensemble_retriever = EnsembleRetriever(retrievers=[retriever_vectordb,keyword_retriever],\n",
    "                                       weights=[0.5, 0.5])"
   ]
  },
  {
   "cell_type": "code",
   "execution_count": 11,
   "metadata": {},
   "outputs": [],
   "source": [
    "prompt=ChatPromptTemplate.from_template(\n",
    "    \"\"\" Answer the following question based only on the provided context. \n",
    "    Think step by step before providing a detailed answer . \n",
    "    I will tip you 1000$ if the user finds the answer helpful.\n",
    "    <context>\n",
    "    {context}\n",
    "    </context>\n",
    "    Question: {input}\n",
    "    \"\"\"\n",
    ")"
   ]
  },
  {
   "cell_type": "code",
   "execution_count": 12,
   "metadata": {},
   "outputs": [],
   "source": [
    "document_chain=create_stuff_documents_chain(llm,prompt)\n",
    "retrieval_chain=create_retrieval_chain(ensemble_retriever,document_chain)"
   ]
  },
  {
   "cell_type": "code",
   "execution_count": 13,
   "metadata": {},
   "outputs": [
    {
     "data": {
      "text/plain": [
       "'This document appears to be a report on the **2022 Nepal Demographic and Health Survey (NDHS)**. \\n\\nHere\\'s why, based on the provided text:\\n\\n* **\"NDHS\" is mentioned multiple times:** This acronym likely stands for Nepal Demographic and Health Survey.\\n* **Focus on health and demographic indicators:** The excerpt mentions topics like \"Disability,\" \"Child Growth Standards,\" \"Underweight,\" \"Overweight,\" \"Family Planning,\" \"Maternal Care,\"  and \"Antenatal care,\" which are common indicators studied in demographic and health surveys.\\n* **Detailed methodology:** The text describes sampling design, questionnaires, data collection methods (anthropometry, anemia testing, blood pressure measurement), training procedures, and data processing - all crucial aspects of conducting a large-scale survey.\\n* **Reference to data and statistics:**  Specific numbers are given for children under 5 with valid data on height and weight, indicating data analysis and reporting of findings.\\n\\n**Therefore, the document is likely a comprehensive report detailing the methodology and key findings of the 2022 Nepal Demographic and Health Survey.** \\n'"
      ]
     },
     "execution_count": 13,
     "metadata": {},
     "output_type": "execute_result"
    }
   ],
   "source": [
    "text=\"what is the document about?\"\n",
    "retrieval_chain.invoke({'input':text})['answer']"
   ]
  },
  {
   "cell_type": "code",
   "execution_count": 15,
   "metadata": {},
   "outputs": [],
   "source": [
    "intent_prompt = ChatPromptTemplate.from_template(\n",
    "    \"\"\"You are an AI designed to assist with inquiries. A user has asked the following question: \"{input}\". \n",
    "    Is the user asking to be contacted (such as requesting a call, email, or other forms of communication)? \n",
    "    Answer with \"Yes\" or \"No\" only.\n",
    "    \"\"\"\n",
    ")"
   ]
  },
  {
   "cell_type": "code",
   "execution_count": 45,
   "metadata": {},
   "outputs": [],
   "source": [
    "info_verification_prompt = ChatPromptTemplate.from_template(\n",
    "    \"\"\"A user has provided the following information: \"{input}\". \n",
    "    Does this message contain the user's full name, phone number, and email address? \n",
    "    If not, specify which information is missing or incomplete. Otherwise, Respond in the following format:\n",
    "    Name: [name]\n",
    "    Phone: [phone]\n",
    "    Email: [email]\n",
    "    \n",
    "    \"\"\"\n",
    ")"
   ]
  },
  {
   "cell_type": "code",
   "execution_count": 18,
   "metadata": {},
   "outputs": [],
   "source": [
    "def save_info(name,phone,email,csv_file=\"user_info.csv\"):\n",
    "    with open(csv_file, mode='a', newline='') as file:\n",
    "        writer = csv.writer(file)\n",
    "        writer.writerow([name, phone, email])"
   ]
  },
  {
   "cell_type": "code",
   "execution_count": 40,
   "metadata": {},
   "outputs": [],
   "source": [
    "save_info(\"RAmasda kumar\",9842324232,'hadfjer')"
   ]
  },
  {
   "cell_type": "code",
   "execution_count": 19,
   "metadata": {},
   "outputs": [],
   "source": [
    "def detect_intent(query):\n",
    "    response=llm(intent_prompt.format(input=query))\n",
    "    return response.strip().lower() == \"yes\"\n",
    "\n"
   ]
  },
  {
   "cell_type": "code",
   "execution_count": null,
   "metadata": {},
   "outputs": [],
   "source": []
  },
  {
   "cell_type": "code",
   "execution_count": 21,
   "metadata": {},
   "outputs": [
    {
     "name": "stdout",
     "output_type": "stream",
     "text": [
      "False\n"
     ]
    }
   ],
   "source": [
    "print(detect_intent(\"hello\"))"
   ]
  },
  {
   "cell_type": "code",
   "execution_count": 59,
   "metadata": {},
   "outputs": [],
   "source": [
    "def verify_info(query):\n",
    "    response=llm(info_verification_prompt.format(input=query))\n",
    "    return response"
   ]
  },
  {
   "cell_type": "code",
   "execution_count": 57,
   "metadata": {},
   "outputs": [],
   "source": [
    "my_r=verify_info(\"Ravi Das 9834287743 kalo@gmail.com\")"
   ]
  },
  {
   "cell_type": "code",
   "execution_count": 58,
   "metadata": {},
   "outputs": [
    {
     "data": {
      "text/plain": [
       "'Name: Ravi Das\\nPhone: 9834287743\\nEmail: kalo@gmail.com \\n'"
      ]
     },
     "execution_count": 58,
     "metadata": {},
     "output_type": "execute_result"
    }
   ],
   "source": [
    "my_r"
   ]
  },
  {
   "cell_type": "code",
   "execution_count": null,
   "metadata": {},
   "outputs": [],
   "source": [
    "# import re\n",
    "\n",
    "# input_text = \"Name: John Doe\"\n",
    "# name_match = re.search(r\"(?i)(name:\\s*)(\\w+\\s\\w+)\", input_text)\n",
    "\n",
    "# if name_match:\n",
    "#     print(name_match.group(1))  # Output: 'Name: '\n",
    "#     print(name_match.group(2))  # Output: 'John Doe'"
   ]
  },
  {
   "cell_type": "code",
   "execution_count": 26,
   "metadata": {},
   "outputs": [],
   "source": [
    "import re"
   ]
  },
  {
   "cell_type": "code",
   "execution_count": 51,
   "metadata": {},
   "outputs": [],
   "source": [
    "# def extract_info(input_text):\n",
    "#     name_match = re.search(r\"(?i)(name:\\s*)(\\w+\\s\\w+)\", input_text)\n",
    "#     phone_match = re.search(r\"(?i)(phone:\\s*)(\\d{10,})\", input_text)\n",
    "#     email_match = re.search(r\"(?i)(email:\\s*)(\\S+@\\S+\\.\\S+)\", input_text)\n",
    "#     print(name_match)\n",
    "#     name = name_match.group(2) if name_match else \"\"\n",
    "#     phone = phone_match.group(2) if phone_match else \"\"\n",
    "#     email = email_match.group(2) if email_match else \"\"\n",
    "\n",
    "#     return name, phone, email\n",
    "\n",
    "def extract_user_info(response):\n",
    "    \n",
    "    \n",
    "    # Parsing the structured response\n",
    "    name = response.split(\"Name: \")[1].split(\"Phone: \")[0].strip() if \"Name: \" in response else None\n",
    "    phone = response.split(\"Phone: \")[1].split(\"Email: \")[0].strip() if \"Phone: \" in response else None\n",
    "    email = response.split(\"Email: \")[1].strip() if \"Email: \" in response else None\n",
    "    \n",
    "    # Handle \"None\" responses\n",
    "    name = None if name == \"None\" else name\n",
    "    phone = None if phone == \"None\" else phone\n",
    "    email = None if email == \"None\" else email\n",
    "    \n",
    "    return name, phone, email"
   ]
  },
  {
   "cell_type": "code",
   "execution_count": 54,
   "metadata": {},
   "outputs": [
    {
     "ename": "TypeError",
     "evalue": "save_info() missing 2 required positional arguments: 'phone' and 'email'",
     "output_type": "error",
     "traceback": [
      "\u001b[1;31m---------------------------------------------------------------------------\u001b[0m",
      "\u001b[1;31mTypeError\u001b[0m                                 Traceback (most recent call last)",
      "Cell \u001b[1;32mIn[54], line 1\u001b[0m\n\u001b[1;32m----> 1\u001b[0m \u001b[43msave_info\u001b[49m\u001b[43m(\u001b[49m\u001b[43mextract_user_info\u001b[49m\u001b[43m(\u001b[49m\u001b[43mmy_r\u001b[49m\u001b[43m)\u001b[49m\u001b[43m)\u001b[49m\n",
      "\u001b[1;31mTypeError\u001b[0m: save_info() missing 2 required positional arguments: 'phone' and 'email'"
     ]
    }
   ],
   "source": [
    "\n",
    "save_info(extract_user_info(my_r))"
   ]
  },
  {
   "cell_type": "code",
   "execution_count": 55,
   "metadata": {},
   "outputs": [],
   "source": [
    "nae,phone,email=extract_user_info(my_r)"
   ]
  },
  {
   "cell_type": "code",
   "execution_count": 56,
   "metadata": {},
   "outputs": [],
   "source": [
    "save_info(nae,phone,email)"
   ]
  },
  {
   "cell_type": "code",
   "execution_count": 33,
   "metadata": {},
   "outputs": [],
   "source": [
    "def handle_user_query(query):\n",
    "    if detect_intent(query):\n",
    "        print(\"Bot: Please provide your Name, Phone Number, and Email below in the format: Name: John Doe, Phone: 1234567890, Email: john.doe@example.com\")\n",
    "        return True ,False"
   ]
  },
  {
   "cell_type": "code",
   "execution_count": 36,
   "metadata": {},
   "outputs": [],
   "source": [
    "def handle_user_query(query, vectors, retrieval_chain, collecting_info, info_saved):\n",
    "    if detect_intent(query):\n",
    "        print(\"Bot: Please provide your Name, Phone Number, and Email below in the format: Name: John Doe, Phone: 1234567890, Email: john.doe@example.com\")\n",
    "        return True, False  # Continue collecting info\n",
    "\n",
    "    if collecting_info and not info_saved:\n",
    "        verification_result = verify_info(query)\n",
    "        if verification_result.lower() == \"complete\":\n",
    "            name, phone, email = extract_info(query)\n",
    "            save_info(name, phone, email)\n",
    "            print(\"Bot: Thank you! Your contact information has been saved.\")\n",
    "            return False, True  # Stop collecting info, info saved\n",
    "        else:\n",
    "            print(f\"Bot: Please provide the following missing information: {verification_result}\")\n",
    "            return True, False  # Continue collecting info\n",
    "\n",
    "    # Process the query if it's not about contact information\n",
    "    response = retrieval_chain.invoke({'input': query})['answer']\n",
    "    print(f\"Bot: {response}\")\n",
    "    return False, False "
   ]
  },
  {
   "cell_type": "code",
   "execution_count": null,
   "metadata": {},
   "outputs": [],
   "source": []
  },
  {
   "cell_type": "code",
   "execution_count": 37,
   "metadata": {},
   "outputs": [],
   "source": [
    "def vector_embeddings():\n",
    "    embeddings = GoogleGenerativeAIEmbeddings(model=\"models/embedding-001\")\n",
    "    loader = PyPDFDirectoryLoader(\"./pdfs\")\n",
    "    docs = loader.load()\n",
    "\n",
    "    text_splitter = RecursiveCharacterTextSplitter(chunk_size=1000, chunk_overlap=200)\n",
    "    final_documents = text_splitter.split_documents(docs)\n",
    "    vectors = FAISS.from_documents(final_documents, embeddings)\n",
    "\n",
    "    retriever_vectordb = vectors.as_retriever(search_kwargs={\"k\": 4})\n",
    "    keyword_retriever = BM25Retriever.from_documents(final_documents)\n",
    "    ensemble_retriever = EnsembleRetriever(retrievers=[retriever_vectordb, keyword_retriever], weights=[0.5, 0.5])\n",
    "\n",
    "    documents_chains = create_stuff_documents_chain(llm,prompt)\n",
    "    retrieval_chain = create_retrieval_chain(ensemble_retriever, documents_chains)\n",
    "\n",
    "    return vectors, retrieval_chain"
   ]
  },
  {
   "cell_type": "code",
   "execution_count": 38,
   "metadata": {},
   "outputs": [
    {
     "name": "stdout",
     "output_type": "stream",
     "text": [
      "FAISS is ready\n",
      "Bot: The provided text is a snippet from what appears to be a demographic and health survey report, likely from Nepal (as indicated by mentions of \"NDHS\" - Nepal Demographic and Health Survey). It contains various tables and figures with data on:\n",
      "\n",
      "* **Prevalence of anemia** among different demographics (residence, ecological zone, province)\n",
      "* **Background characteristics of survey respondents** such as marital status, residence, education level\n",
      "* **Fertility rates** including trends over time and teenage pregnancy rates. \n",
      "\n",
      "However, **none of this information helps answer the question \"hello\".**  The question is a simple greeting and doesn't relate to the provided data. \n",
      "\n",
      "Bot: Please provide your Name, Phone Number, and Email below in the format: Name: John Doe, Phone: 1234567890, Email: john.doe@example.com\n",
      "Bot: Thank you! Your contact information has been saved.\n",
      "Bot: The survey collected demographic, health, and social data from households and individuals in Nepal. \n",
      "\n"
     ]
    },
    {
     "name": "stderr",
     "output_type": "stream",
     "text": [
      "Retrying langchain_google_genai.llms._completion_with_retry.<locals>._completion_with_retry in 4.0 seconds as it raised ResourceExhausted: 429 Resource has been exhausted (e.g. check quota)..\n"
     ]
    },
    {
     "name": "stdout",
     "output_type": "stream",
     "text": [
      "Bot: ```python\n",
      "exit()\n",
      "```\n"
     ]
    }
   ],
   "source": [
    "vectors, retrieval_chain = vector_embeddings()\n",
    "print(\"FAISS is ready\")\n",
    "\n",
    "# Initialize conversation state\n",
    "collecting_info = False\n",
    "info_saved = False\n",
    "\n",
    "# Simulated chat loop\n",
    "while True:\n",
    "    user_input = input(\"Your message: \")\n",
    "\n",
    "    if user_input.lower() == \"exit\":\n",
    "        break\n",
    "\n",
    "    collecting_info, info_saved = handle_user_query(user_input, vectors, retrieval_chain, collecting_info, info_saved)"
   ]
  },
  {
   "cell_type": "code",
   "execution_count": null,
   "metadata": {},
   "outputs": [],
   "source": []
  }
 ],
 "metadata": {
  "kernelspec": {
   "display_name": "venv",
   "language": "python",
   "name": "python3"
  },
  "language_info": {
   "codemirror_mode": {
    "name": "ipython",
    "version": 3
   },
   "file_extension": ".py",
   "mimetype": "text/x-python",
   "name": "python",
   "nbconvert_exporter": "python",
   "pygments_lexer": "ipython3",
   "version": "3.12.4"
  }
 },
 "nbformat": 4,
 "nbformat_minor": 2
}
